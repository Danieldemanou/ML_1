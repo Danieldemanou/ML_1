{
 "cells": [
  {
   "cell_type": "markdown",
   "metadata": {},
   "source": [
    "# TP2 : MiniNN Notebook "
   ]
  },
  {
   "cell_type": "markdown",
   "metadata": {},
   "source": [
    "7 décembre 2016  \n",
    "Adapté du TP de Gaétan Marceau-Caron"
   ]
  },
  {
   "cell_type": "markdown",
   "metadata": {},
   "source": [
    "## Introduction\n",
    "\n",
    "Au cours du TP1, nous avons étudié le modèle _Softmax_ (aussi connu sous le nom de MaxEnt) pour traiter le problème de classification probabiliste.\n",
    "Le but était de présenter deux étapes importantes de l'entraînement: la {\\it forward propagation} et la mise à jour des paramètres.\n",
    "Le TP2 reprend le modèle Softmax dans un cadre plus général, celui des réseaux de neurones avec couches cachées.\n",
    "\n",
    "Dans ce cadre, on peut considérer le modèle Softmax comme un \"module\" qui prend en entrée des \"features\", e.g. les pixels d'une image, et qui donne en sortie une loi de probabilité sur les étiquettes.\n",
    "D'un point de vue computationnel, un réseau de neurones est composé de plusieurs modules, transformant simplement les features d'un espace à un autre en fonction des valeurs courantes des paramètres.\n",
    "Ainsi, le but de l'entraînement est d'apprendre les transformations pertinentes, i.e., en modifiant les paramètres, qui permettront de réaliser la tâche associée au module de sortie. \n",
    "En augmentant le nombre de modules (mais aussi de fonctions non-linéaires), on augmente ainsi la complexité du modèle.\n",
    "La thèse du {\\it Deep Learning} nous dit que les modules près des données d'entrée doivent apprennent des features de bas niveau, e.g., filtre de Gabor pour l'image, alors que les modules près de la sortie apprennent des features de haut niveau, e.g., la probabilité qu'il y ait un chat dans l'image.\n",
    "A priori, cette hiéarchie des features n'est pas imposée par le programmeur, mais apparaît naturellement lors de l'entraînement avec l'algorithme de backpropagation .\n",
    "\n",
    "Le but du TP2 est de programmer les trois étapes essentielles à l'entraînement d'un réseau de neurones: la forward propagation, la backpropagation et la mise à jour des paramètres.\n",
    "Ensuite, vous pouvez créer un test permettant de vérifier l'implémentation: le test des différences finies.\n",
    "Finalement, vous pourrez comparer les performances de votre réseau de neurones avec celles de votre modèle Softmax de la semaine dernière."
   ]
  },
  {
   "cell_type": "markdown",
   "metadata": {},
   "source": [
    "## Objectifs : \n",
    "    1. Télécharger le TP2\n",
    "    2. Implementer la fonction forward (nn ops.py:72)\n",
    "    3. Implementer la fonction sigmoid et sa d ́eriv ́ee (nn ops.py:149)\n",
    "    4. Implementer la fonction backward (nn ops.py:93)\n",
    "    5. Implementer la fonction update (nn ops.py:123)\n",
    "    6. Entrainer miniNN et obtenir une accuracy meilleur que le modèle softmax (de 0.92)\n",
    "\n",
    "\n",
    "Et optionellemnt : \n",
    "    7. Implementer le test des diff ́erences finies (fd test.py)\n",
    "    \n",
    "La différence finie est une approximation de la dérivée partielle:\n",
    "\\begin{equation}\n",
    "\\frac{\\partial l(w)}{\\partial w_{i}} \\approx \\frac{l(w + \\epsilon e_{i}) - l(w - \\epsilon e_{i})}{2 \\epsilon}\n",
    "\\end{equation}\n",
    "où $l$ est une fonction à plusieurs variables avec ses dérivées partielles définies, $w$ est un vecteur, $w_{i}$ est sa $i$ème composante, $\\epsilon$ est la longeur du pas et $e_{i}$ est le $i$ème vecteur de la base canonique de l'espace euclidien."
   ]
  },
  {
   "cell_type": "markdown",
   "metadata": {},
   "source": [
    "## Livrable\n",
    "\n",
    "- __Date du livrable__: Le 16 décembre 2015  \n",
    "- __Format du livrable__ un fichier compressé nommé \"DL\\_tp2\\_prénom\\_nom.zip\" contenant le code et le résumé   \n",
    "- __Dépôt__ à l'adresse _{thomas.schmitt@inria.fr}_ avec comme objet du message \"DL\\_tp2\\_prénom\\_nom\".  \n",
    "- __Description__  \n",
    "Le livrable associé au TP2 doit contenir le code de MiniNN complété et accompagné d'un résumé de une à deux pages.\n",
    "Le code doit s'exécuter avec la commande _python miniNN.py_ et afficher l'évolution de l'apprentissage (sortie par défaut du programme).  \n",
    "( Ou bien être sous la forme d'un notebook. )\n",
    "\n",
    "Le résumé doit être succinct et se focaliser uniquement sur les points essentiels reliés à l'entraînement des réseaux de neurones.\n",
    "Ce document doit décrire les difficultés que vous avez rencontrées et, dans le cas échéant, les solutions utilisées pour les résoudre.\n",
    "Vous pouvez aussi y décrire vos questions ouvertes et proposer une expérience sur MNIST afin d'y répondre.  \n",
    "\n",
    "\n"
   ]
  },
  {
   "cell_type": "markdown",
   "metadata": {},
   "source": [
    "## Zone de Test "
   ]
  },
  {
   "cell_type": "markdown",
   "metadata": {},
   "source": [
    "### Load data and minibatch (as in miniNN.py)"
   ]
  },
  {
   "cell_type": "code",
   "execution_count": 226,
   "metadata": {
    "collapsed": false
   },
   "outputs": [
    {
     "name": "stdout",
     "output_type": "stream",
     "text": [
      "The autoreload extension is already loaded. To reload it, use:\n",
      "  %reload_ext autoreload\n"
     ]
    }
   ],
   "source": [
    "# Pour ne pas reload le kernel quand un fichier .py change\n",
    "%load_ext autoreload\n",
    "%autoreload 2\n",
    "\n",
    "%matplotlib inline\n",
    "import os\n",
    "import numpy as np\n",
    "import matplotlib.pyplot as plt\n",
    "import copy, math, time, sys\n",
    "import dataset_loader\n",
    "from nn_ops import *\n",
    "if(\"mnist.pkl.gz\" not in os.listdir(\".\")):\n",
    "    print('download mnist data')\n",
    "    !curl \"http://deeplearning.net/data/mnist/mnist.pkl.gz\"  -o \"mnist.pkl.gz\""
   ]
  },
  {
   "cell_type": "code",
   "execution_count": 249,
   "metadata": {
    "collapsed": false
   },
   "outputs": [],
   "source": [
    "\n",
    "# Retrieve the arguments \n",
    "args = parseArgs_ipython(arch = [100], act_func = \"sigmoid\", batch_size = 500, eta = .01, n_epoch = 100)\n"
   ]
  },
  {
   "cell_type": "code",
   "execution_count": 250,
   "metadata": {
    "collapsed": false
   },
   "outputs": [
    {
     "name": "stdout",
     "output_type": "stream",
     "text": [
      "Description of the experiment\n",
      "----------\n",
      "Learning algorithm: Bprop\n",
      "Initial step-size: 0.01\n",
      "Network Architecture: [784 100  10]\n",
      "Number of parameters: 79510\n",
      "Minibatch size: 500\n",
      "Activation: sigmoid\n",
      "----------\n"
     ]
    }
   ],
   "source": [
    "\n",
    "\n",
    "\n",
    "# Fix the seed for the random generator\n",
    "np.random.seed(seed=0)\n",
    "\n",
    "#############################\n",
    "### Dataset Handling\n",
    "#############################\n",
    "\n",
    "### Load the dataset\n",
    "train_set, valid_set, test_set = dataset_loader.load_mnist()\n",
    "\n",
    "### Define the dataset variables\n",
    "n_training = train_set[0].shape[0]\n",
    "n_feature = train_set[0].shape[1]\n",
    "n_label = np.max(train_set[1])+1\n",
    "\n",
    "#############################\n",
    "### Neural Network parameters\n",
    "#############################\n",
    "\n",
    "### Activation function\n",
    "act_func_name = args.act_func\n",
    "\n",
    "### Network Architecture\n",
    "nn_arch = np.array([n_feature] + args.arch + [n_label])\n",
    "\n",
    "### Create the neural network\n",
    "W,B,act_func,nb_params = initNetwork(nn_arch,act_func_name)\n",
    "\n",
    "#############################\n",
    "### Optimization parameters\n",
    "#############################\n",
    "eta = args.eta\n",
    "batch_size = args.batch_size\n",
    "n_batch = int(math.ceil(float(n_training)/batch_size))\n",
    "n_epoch = args.n_epoch \n",
    "\n",
    "#############################\n",
    "### Auxiliary variables\n",
    "#############################\n",
    "cumul_time = 0.\n",
    "\n",
    "# Convert the labels to one-hot vector\n",
    "one_hot = np.zeros((n_label,n_training))\n",
    "one_hot[train_set[1],np.arange(n_training)]=1.\n",
    "\n",
    "printDescription(\"Bprop\", eta, nn_arch, act_func_name, batch_size, nb_params)"
   ]
  },
  {
   "cell_type": "code",
   "execution_count": 251,
   "metadata": {
    "collapsed": false
   },
   "outputs": [],
   "source": [
    "### Mini-batch creation\n",
    "j = 0\n",
    "batch, one_hot_batch, mini_batch_size = getMiniBatch(j, batch_size, train_set, one_hot)\n",
    "X_bacth = batch"
   ]
  },
  {
   "cell_type": "code",
   "execution_count": 252,
   "metadata": {
    "collapsed": false
   },
   "outputs": [
    {
     "data": {
      "text/plain": [
       "(500, 784)"
      ]
     },
     "execution_count": 252,
     "metadata": {},
     "output_type": "execute_result"
    }
   ],
   "source": [
    "batch.shape"
   ]
  },
  {
   "cell_type": "markdown",
   "metadata": {},
   "source": [
    "### Appel de chaque fonction, avec les valeurs calculé avant"
   ]
  },
  {
   "cell_type": "code",
   "execution_count": 253,
   "metadata": {
    "collapsed": false
   },
   "outputs": [],
   "source": [
    "### Forward propagation\n",
    "Y,Yp = forward(act_func, W, B, batch)\n"
   ]
  },
  {
   "cell_type": "code",
   "execution_count": 254,
   "metadata": {
    "collapsed": false
   },
   "outputs": [],
   "source": [
    "\n",
    "assert Y[0].shape == (n_feature, batch_size)\n",
    "assert Y[-1].shape == (10, batch_size)"
   ]
  },
  {
   "cell_type": "code",
   "execution_count": 255,
   "metadata": {
    "collapsed": false
   },
   "outputs": [],
   "source": [
    "assert Yp[0].shape == (nn_arch[1], batch_size)"
   ]
  },
  {
   "cell_type": "code",
   "execution_count": 256,
   "metadata": {
    "collapsed": false
   },
   "outputs": [
    {
     "name": "stderr",
     "output_type": "stream",
     "text": [
      "/Users/DEMANOU/anaconda/lib/python3.5/site-packages/numpy/core/_methods.py:32: VisibleDeprecationWarning: using a non-integer number instead of an integer will result in an error in the future\n",
      "  return umr_sum(a, axis, dtype, out, keepdims)\n"
     ]
    }
   ],
   "source": [
    "\n",
    "### Compute the softmax\n",
    "out = softmax(Y[-1])\n",
    "        \n",
    "        "
   ]
  },
  {
   "cell_type": "code",
   "execution_count": 257,
   "metadata": {
    "collapsed": false
   },
   "outputs": [],
   "source": [
    "assert out.shape == (nn_arch[-1], batch_size)"
   ]
  },
  {
   "cell_type": "code",
   "execution_count": 258,
   "metadata": {
    "collapsed": false
   },
   "outputs": [],
   "source": [
    "### Compute the gradient at the top layer\n",
    "derror = out-one_hot_batch\n",
    "\n",
    "        "
   ]
  },
  {
   "cell_type": "code",
   "execution_count": 259,
   "metadata": {
    "collapsed": false
   },
   "outputs": [],
   "source": [
    "assert derror.shape == (nn_arch[-1], batch_size)"
   ]
  },
  {
   "cell_type": "code",
   "execution_count": 260,
   "metadata": {
    "collapsed": false
   },
   "outputs": [],
   "source": [
    "### Backpropagation\n",
    "gradB = backward(derror, W, Yp)\n",
    "\n"
   ]
  },
  {
   "cell_type": "code",
   "execution_count": 261,
   "metadata": {
    "collapsed": false
   },
   "outputs": [],
   "source": [
    "assert len(gradB) == len(nn_arch)-1\n",
    "for gradw,dim in zip(gradB,nn_arch[1:]):\n",
    "    gradw.shape = (dim,batch_size)"
   ]
  },
  {
   "cell_type": "code",
   "execution_count": 262,
   "metadata": {
    "collapsed": false,
    "scrolled": true
   },
   "outputs": [],
   "source": [
    "### Update the parameters\n",
    "\n",
    "new_W, new_B = update(eta, batch_size, W, B, gradB, Y)\n"
   ]
  },
  {
   "cell_type": "code",
   "execution_count": 263,
   "metadata": {
    "collapsed": false
   },
   "outputs": [
    {
     "data": {
      "text/plain": [
       "(10, 100)"
      ]
     },
     "execution_count": 263,
     "metadata": {},
     "output_type": "execute_result"
    }
   ],
   "source": [
    "W[1].shape"
   ]
  },
  {
   "cell_type": "code",
   "execution_count": 264,
   "metadata": {
    "collapsed": false
   },
   "outputs": [
    {
     "name": "stdout",
     "output_type": "stream",
     "text": [
      "(100, 100)\n"
     ]
    }
   ],
   "source": [
    "grad_w = gradB[0].dot(Y[1].T)/batch_size\n",
    "print(grad_w.shape)"
   ]
  },
  {
   "cell_type": "code",
   "execution_count": 265,
   "metadata": {
    "collapsed": false
   },
   "outputs": [
    {
     "name": "stderr",
     "output_type": "stream",
     "text": [
      "/Users/DEMANOU/anaconda/lib/python3.5/site-packages/numpy/core/_methods.py:32: VisibleDeprecationWarning: using a non-integer number instead of an integer will result in an error in the future\n",
      "  return umr_sum(a, axis, dtype, out, keepdims)\n"
     ]
    }
   ],
   "source": [
    "### Training accuracy\n",
    "train_loss, train_accuracy = computeLoss(W, B, train_set[0], train_set[1], act_func) \n",
    "\n",
    "### Valid accuracy\n",
    "valid_loss, valid_accuracy = computeLoss(W, B, valid_set[0], valid_set[1], act_func) \n"
   ]
  },
  {
   "cell_type": "code",
   "execution_count": 266,
   "metadata": {
    "collapsed": false
   },
   "outputs": [
    {
     "data": {
      "text/plain": [
       "0.099360000000000004"
      ]
     },
     "execution_count": 266,
     "metadata": {},
     "output_type": "execute_result"
    }
   ],
   "source": [
    "train_accuracy"
   ]
  },
  {
   "cell_type": "code",
   "execution_count": 267,
   "metadata": {
    "collapsed": false
   },
   "outputs": [
    {
     "data": {
      "text/plain": [
       "0.099000000000000005"
      ]
     },
     "execution_count": 267,
     "metadata": {},
     "output_type": "execute_result"
    }
   ],
   "source": [
    "valid_accuracy"
   ]
  },
  {
   "cell_type": "markdown",
   "metadata": {},
   "source": [
    "## Training"
   ]
  },
  {
   "cell_type": "code",
   "execution_count": 268,
   "metadata": {
    "collapsed": false,
    "scrolled": true
   },
   "outputs": [
    {
     "name": "stderr",
     "output_type": "stream",
     "text": [
      "/Users/DEMANOU/anaconda/lib/python3.5/site-packages/numpy/core/_methods.py:32: VisibleDeprecationWarning: using a non-integer number instead of an integer will result in an error in the future\n",
      "  return umr_sum(a, axis, dtype, out, keepdims)\n"
     ]
    },
    {
     "name": "stdout",
     "output_type": "stream",
     "text": [
      "0 1.504467000000659 0.761541117391 0.78384 0.719330319822 0.8034 1\n",
      "1 2.910787000002074 0.407430422405 0.8879 0.375352978893 0.8993 1\n",
      "2 4.417269000006399 0.335928567084 0.90462 0.309967993773 0.9125 1\n",
      "3 5.920106000005944 0.299199567236 0.91446 0.277554662359 0.9204 1\n",
      "4 7.416437000006226 0.273269704289 0.92168 0.2548919959 0.9256 1\n",
      "5 8.851449000007051 0.25268710915 0.9279 0.236921550971 0.9315 1\n",
      "6 10.309657000008428 0.235407329332 0.93314 0.221927057156 0.9352 1\n",
      "7 11.792880000009518 0.220504279909 0.93712 0.209153498251 0.9412 1\n",
      "8 13.250324000011005 0.207448939731 0.94062 0.19813683697 0.9445 1\n",
      "9 14.63954700001068 0.195876556627 0.94434 0.188532285586 0.9471 1\n",
      "10 15.921917000008762 0.185520061176 0.94724 0.180074737703 0.9494 1\n",
      "11 17.34508900000901 0.176180025659 0.94966 0.172561756945 0.9517 1\n",
      "12 18.694151000007423 0.167703136005 0.95218 0.165839290142 0.954 1\n",
      "13 20.061908000006497 0.159967691633 0.95446 0.159788660239 0.9562 1\n",
      "14 21.467858000009073 0.152874941003 0.9564 0.154316139915 0.9584 1\n",
      "15 22.967148000008365 0.14634372367 0.95828 0.149345429635 0.9594 1\n",
      "16 24.453811000007136 0.140306715103 0.96016 0.144812765437 0.9609 1\n",
      "17 25.874340000009397 0.134707565803 0.96196 0.140664053133 0.9619 1\n",
      "18 27.27106300001242 0.129498673091 0.96358 0.136853250529 0.9627 1\n",
      "19 28.792500000014115 0.124639462904 0.96482 0.133341319587 0.9635 1\n",
      "20 30.209227000012106 0.120095072726 0.96616 0.130095321563 0.9638 1\n",
      "21 31.681543000014244 0.115835327478 0.96766 0.127087484678 0.9643 1\n",
      "22 33.16040900001235 0.111833933893 0.96886 0.124294258197 0.9643 1\n",
      "23 34.653612000012345 0.108067848366 0.96996 0.121695444174 0.9648 1\n",
      "24 36.05994900001497 0.10451677537 0.97086 0.119273481918 0.9649 1\n",
      "25 37.58164000001398 0.101162755592 0.97184 0.117012905258 0.9658 1\n",
      "26 38.954697000013766 0.0979898190974 0.97292 0.114899950032 0.967 1\n",
      "27 40.54070500000989 0.0949836941284 0.97408 0.11292227425 0.9674 1\n",
      "28 41.85167500000989 0.0921315661454 0.97508 0.111068756062 0.9679 1\n",
      "29 43.370277000011356 0.089421879671 0.97604 0.109329343132 0.9685 1\n",
      "30 44.62255500001447 0.0868441741323 0.97684 0.107694935573 0.9693 1\n",
      "31 46.09247900001583 0.0843889460856 0.97764 0.10615729093 0.9697 1\n",
      "32 47.6011800000183 0.0820475325235 0.97818 0.104708943587 0.9702 1\n",
      "33 49.03715900001862 0.0798120120777 0.97886 0.103343133466 0.9705 1\n",
      "34 50.564592000017456 0.077675122322 0.97976 0.102053740819 0.9706 1\n",
      "35 51.849319000016294 0.0756301918952 0.98042 0.100835225626 0.9709 1\n",
      "36 53.381380000014815 0.0736710858453 0.98124 0.0996825710859 0.9713 1\n",
      "37 54.848175000011906 0.0717921617948 0.98168 0.0985912310395 0.9716 1\n",
      "38 56.43712100001267 0.0699882338382 0.98206 0.097557081035 0.972 1\n",
      "39 57.87000500001477 0.0682545409988 0.98246 0.0965763726882 0.9722 1\n",
      "40 59.28541800001449 0.0665867176567 0.98302 0.095645691193 0.9726 1\n",
      "41 60.815876000014214 0.0649807643253 0.98354 0.0947619161502 0.9729 1\n",
      "42 62.18443700001262 0.0634330181428 0.9839 0.0939221861225 0.9731 1\n",
      "43 63.508614000011676 0.0619401232226 0.98438 0.0931238673514 0.9734 1\n",
      "44 64.88769500001035 0.0604990014963 0.98482 0.0923645269045 0.9735 1\n",
      "45 66.39176700001099 0.059106824878 0.9851 0.0916419102411 0.9738 1\n",
      "46 67.80965700001343 0.057760989534 0.98566 0.0909539228956 0.9739 1\n",
      "47 69.33033900001419 0.0564590928146 0.98594 0.0902986157477 0.9741 1\n",
      "48 70.66361100001859 0.0551989130778 0.98642 0.0896741732144 0.9741 1\n",
      "49 72.11960400001772 0.0539783923021 0.98672 0.0890789036606 0.9741 1\n",
      "50 73.6265210000206 0.0527956211328 0.98704 0.0885112313497 0.9743 1\n",
      "51 75.12089700002434 0.0516488258673 0.98748 0.0879696893422 0.9745 1\n",
      "52 76.61087200002521 0.0505363568932 0.98772 0.0874529128542 0.9747 1\n",
      "53 78.12719100002505 0.0494566781836 0.98804 0.0869596327248 0.9748 1\n",
      "54 79.49339700002838 0.0484083576069 0.98838 0.0864886687788 0.9749 1\n",
      "55 80.80173800002831 0.0473900579441 0.98864 0.0860389230245 0.9749 1\n",
      "56 82.27665700003035 0.0464005286001 0.98908 0.0856093727482 0.9752 1\n",
      "57 83.8031550000319 0.0454385980378 0.9894 0.085199063656 0.9755 1\n",
      "58 85.33728200003225 0.0445031669538 0.98964 0.0848071032507 0.9755 1\n",
      "59 86.88011700003062 0.0435932021907 0.98982 0.0844326546112 0.9753 1\n",
      "60 88.4629450000316 0.0427077313455 0.99006 0.0840749306972 0.9751 1\n",
      "61 90.03048300003138 0.0418458380186 0.99036 0.0837331892378 0.9752 1\n",
      "62 91.54951500003199 0.0410066576337 0.99054 0.083406728211 0.9752 1\n",
      "63 93.03885700003093 0.0401893737619 0.99092 0.0830948818834 0.9753 1\n",
      "64 94.3216680000296 0.0393932148873 0.99122 0.0827970173647 0.9755 1\n",
      "65 95.82005400003072 0.0386174515509 0.99138 0.0825125316225 0.9756 1\n",
      "66 97.37895000002663 0.0378613938165 0.99166 0.0822408489108 0.9756 1\n",
      "67 98.74551000002566 0.0371243889992 0.99182 0.0819814185707 0.9755 1\n",
      "68 100.26853700002312 0.0364058195938 0.99198 0.0817337131702 0.9755 1\n",
      "69 101.78136600002108 0.0357051013442 0.99222 0.0814972269548 0.9757 1\n",
      "70 103.30143400001998 0.0350216813906 0.99246 0.0812714745882 0.9757 1\n",
      "71 104.74786500002301 0.0343550364401 0.9928 0.0810559901604 0.9757 1\n",
      "72 106.24575700002515 0.0337046709142 0.99308 0.080850326441 0.9757 1\n",
      "73 107.51334400002543 0.0330701150403 0.99332 0.0806540543531 0.9759 1\n",
      "74 109.08403000002636 0.0324509228747 0.99358 0.0804667626319 0.9759 1\n",
      "75 110.49620000002642 0.0318466702643 0.9937 0.0802880576264 0.976 1\n",
      "76 111.97280800002909 0.0312569527726 0.99384 0.0801175631941 0.9759 1\n",
      "77 113.3837950000302 0.0306813836134 0.99398 0.0799549206285 0.976 1\n",
      "78 114.94084600003043 0.0301195916465 0.9942 0.079799788563 0.976 1\n",
      "79 116.54752800003371 0.0295712194872 0.99436 0.0796518427941 0.9761 1\n",
      "80 117.9522610000331 0.0290359217807 0.99448 0.0795107759811 0.9763 1\n",
      "81 119.42929500003493 0.0285133636767 0.99466 0.0793762971976 0.9764 1\n",
      "82 120.98099400003639 0.0280032195263 0.99474 0.0792481313261 0.9765 1\n",
      "83 122.47047700003577 0.0275051718061 0.99486 0.0791260183129 0.9766 1\n",
      "84 123.9568940000413 0.0270189102615 0.99506 0.079009712314 0.9766 1\n",
      "85 125.46327900003871 0.0265441312538 0.99522 0.0788989807763 0.9769 1\n",
      "86 126.92271400003483 0.0260805372865 0.99538 0.0787936035045 0.9768 1\n",
      "87 128.3314430000346 0.0256278366868 0.99548 0.0786933717601 0.9769 1\n",
      "88 129.76919100003488 0.0251857434175 0.9957 0.0785980874311 0.9768 1\n",
      "89 131.26693900003602 0.024753976994 0.99592 0.0785075622985 0.977 1\n",
      "90 132.68887400003814 0.0243322624836 0.99608 0.078421617405 0.977 1\n",
      "91 134.0797050000392 0.0239203305648 0.99624 0.0783400825226 0.977 1\n",
      "92 135.5374880000395 0.0235179176267 0.9963 0.0782627956945 0.977 1\n",
      "93 137.03709300004311 0.0231247658894 0.9964 0.0781896028283 0.977 1\n",
      "94 138.3047100000431 0.0227406235302 0.9965 0.0781203573078 0.9772 1\n",
      "95 139.55758600004265 0.0223652448013 0.99652 0.0780549196037 0.9772 1\n",
      "96 140.92579700004262 0.0219983901299 0.99666 0.0779931568642 0.9772 1\n",
      "97 142.43625900004508 0.0216398261926 0.99674 0.0779349424828 0.9771 1\n",
      "98 143.98346400004812 0.0212893259593 0.99688 0.0778801556447 0.9769 1\n",
      "99 145.61557600004744 0.0209466687049 0.99692 0.077828680863 0.9769 1\n"
     ]
    }
   ],
   "source": [
    "eta = 1\n",
    "tranval = []\n",
    "testval = []\n",
    "for i in range(n_epoch):\n",
    "    for j in range(n_batch):\n",
    "\n",
    "        ### Mini-batch creation\n",
    "        batch, one_hot_batch, mini_batch_size = getMiniBatch(j, batch_size, train_set, one_hot)\n",
    "\n",
    "        prev_time = time.clock()\n",
    "\n",
    "        ### Forward propagation\n",
    "        Y,Yp = forward(act_func, W, B, batch)\n",
    "\n",
    "        ### Compute the softmax\n",
    "        out = softmax(Y[-1])\n",
    "        \n",
    "        ### Compute the gradient at the top layer\n",
    "        derror = out-one_hot_batch\n",
    "\n",
    "        ### Backpropagation\n",
    "        gradB = backward(derror, W, Yp)\n",
    "\n",
    "        ### Update the parameters\n",
    "        W, B = update(eta, batch_size, W, B, gradB, Y)\n",
    "\n",
    "        curr_time = time.clock()\n",
    "        cumul_time += curr_time - prev_time\n",
    "\n",
    "    ### Training accuracy\n",
    "    train_loss, train_accuracy = computeLoss(W, B, train_set[0], train_set[1], act_func) \n",
    "\n",
    "    ### Valid accuracy\n",
    "    valid_loss, valid_accuracy = computeLoss(W, B, valid_set[0], valid_set[1], act_func) \n",
    "\n",
    "    result_line = str(i) + \" \" + str(cumul_time) + \" \" + str(train_loss) + \" \" + str(train_accuracy) + \" \" + str(valid_loss) + \" \" + str(valid_accuracy) + \" \" + str(eta)\n",
    "    tranval.append(train_accuracy)\n",
    "    testval.append(valid_accuracy)\n",
    "    \n",
    "    print(result_line)"
   ]
  },
  {
   "cell_type": "code",
   "execution_count": 269,
   "metadata": {
    "collapsed": false
   },
   "outputs": [
    {
     "data": {
      "text/plain": [
       "<matplotlib.legend.Legend at 0x10e2bafd0>"
      ]
     },
     "execution_count": 269,
     "metadata": {},
     "output_type": "execute_result"
    },
    {
     "data": {
      "image/png": "[encoded data removed]",
      "text/plain": [
       "<matplotlib.figure.Figure at 0x10e11bb70>"
      ]
     },
     "metadata": {},
     "output_type": "display_data"
    }
   ],
   "source": [
    "plt.plot(tranval,label='train_acc')\n",
    "plt.plot(testval,label='valid_acc')\n",
    "plt.xlabel(\"epoch\")\n",
    "plt.ylim([0.,1.])\n",
    "plt.legend()"
   ]
  },
  {
   "cell_type": "code",
   "execution_count": null,
   "metadata": {
    "collapsed": true
   },
   "outputs": [],
   "source": []
  }
 ],
 "metadata": {
  "anaconda-cloud": {},
  "kernelspec": {
   "display_name": "Python [default]",
   "language": "python",
   "name": "python3"
  },
  "language_info": {
   "codemirror_mode": {
    "name": "ipython",
    "version": 3
   },
   "file_extension": ".py",
   "mimetype": "text/x-python",
   "name": "python",
   "nbconvert_exporter": "python",
   "pygments_lexer": "ipython3",
   "version": "3.5.2"
  }
 },
 "nbformat": 4,
 "nbformat_minor": 0
}
