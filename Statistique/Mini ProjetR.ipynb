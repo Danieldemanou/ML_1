{
 "cells": [
  {
   "cell_type": "markdown",
   "metadata": {},
   "source": [
    "# Mini-Pojet, satistiques                                                             "
   ]
  },
  {
   "cell_type": "markdown",
   "metadata": {},
   "source": [
    "## DEMANOU WAMO Daniel "
   ]
  },
  {
   "cell_type": "markdown",
   "metadata": {},
   "source": [
    "##  exercice 1"
   ]
  },
  {
   "cell_type": "markdown",
   "metadata": {},
   "source": []
  },
  {
   "cell_type": "markdown",
   "metadata": {},
   "source": [
    "\n",
    "1) calcule de $g(\\theta)$  \n",
    "\n",
    "\\begin{align*}\n",
    "g(\\theta) = \\sum_{k = 1}^{+\\infty} K P_{\\theta}(k) = \\sum_{k = 1}^{+\\infty} K \\theta (1 - \\theta)^{k-1} \n",
    "\\end{align*}\n",
    "or \n",
    "\n",
    "\\begin{align*}\n",
    "(1 - \\theta)^{k-1} = - \\frac{\\mathrm{d} (1- \\theta)^{k}}{\\mathrm{d} \\theta} \\Rightarrow g(\\theta) = \\theta \\sum_{k=1}^{+\\infty} \\frac{\\mathrm{d}(1- \\theta)^{k}}{\\mathrm{d} \\theta} = \\theta  \\frac{\\mathrm{d\\sum_{k=1}^{+\\infty}}(1- \\theta)^{k}}{\\mathrm{d} \\theta}  \n",
    "\\end{align*}\n",
    "\n",
    "\n",
    "or  $\\sum_{k=1}^{n}(1- \\theta)^{k} = \\frac{(1-(1- \\theta)^{n})(1-\\theta)}{\\theta} $ on a donc \n",
    "$\\lim_{n\\rightarrow +\\infty}\\sum_{k=1}^{n}(1- \\theta)^{k} = \\lim_{n\\rightarrow +\\infty}\\frac{(1-(1- \\theta)^{n})(1-\\theta)}{\\theta} = \\frac{(1-\\theta)}{\\theta}$\n",
    "\n",
    "\n",
    "\\begin{align*}\n",
    "g(\\theta) = - \\theta \\frac{\\mathrm{d} (1- \\theta)/\\theta}{\\mathrm{d} \\theta} = \\frac{1}{\\theta}\n",
    "\\end{align*}\n",
    "\n",
    "\n",
    "\\begin{align*}\n",
    "g(\\theta) = \\frac{1}{\\theta}\n",
    "\\end{align*}\n",
    "\n",
    "\n",
    "$E_{\\theta}(X_{1}) = \\frac{1}{\\theta}$ car  $g(\\theta) = \\frac{1}{\\theta}$"
   ]
  },
  {
   "cell_type": "markdown",
   "metadata": {},
   "source": [
    "### 2) Le modele P est dominé par une mesure de comptage"
   ]
  },
  {
   "cell_type": "markdown",
   "metadata": {},
   "source": [
    "#### question 3) \n",
    "montrons que T(x) est sans biais puis qu'il est UVMB "
   ]
  },
  {
   "cell_type": "markdown",
   "metadata": {},
   "source": [
    "$E(T(x) -g(\\theta))= E(\\frac{1}{n} \\sum_{i=1}^{n}x_i) - g(\\theta)$\n",
    "\n",
    "$E(T(x) -g(\\theta)) = \\frac{1}{n}\\sum_{i=1}^{n}E(x_i) - g(\\theta)$\n",
    "\n",
    "$E(T(x) -g(\\theta)) = \\frac{1}{n}\\sum_{i=1}^{n}g(\\theta) - g(\\theta)= 0$\n",
    "\n",
    "donc T(x) est sans biais. \n",
    "\n",
    "$var_\\theta (T(x))= var_\\theta (\\frac{1}{n}\\sum_{i=1}^{n} x_i )$\n",
    "\n",
    "$var_\\theta (T(x))= \\frac{1}{n^2} \\sum_{i=1}^{n}var_\\theta (x_i) = \\frac{1}{n}(\\frac{1-\\theta}{\\theta^2})$ \n",
    "\n",
    "car les $x_i$ sont iid et $var_\\theta (x_i) = \\frac{1-\\theta}{\\theta^2}$\n",
    "\n",
    "on sait que $g(\\theta) = \\frac{1}{\\theta} \\Rightarrow  g'(\\theta)^2 = \\frac{1}{\\theta^4}$\n",
    "\n",
    "calculons $I(\\theta)$ on sait que $I(\\theta)= n*I_1(\\theta)$ car les $x_i$ sont iid \n",
    "\n",
    "or \n",
    "\n",
    "$I_1(\\theta)= E_\\theta [(\\frac{\\partial (logP(x_i, \\theta))}{\\partial\\theta})^2]$\n",
    "\n",
    "$I_1(\\theta)= E_\\theta [(\\frac{\\partial (log \\theta*(1-\\theta)^{x-1})}{\\partial\\theta})^2]$\n",
    "\n",
    "$I_1(\\theta)= E_\\theta [(\\frac{1}{\\theta} - (x_i - 1)*\\frac{1}{1-\\theta})^2]$\n",
    "\n",
    "$I_1(\\theta)= \\frac{1}{(1-\\theta)^2} E_\\theta[( \\frac{1 - \\theta}{\\theta} - (x_i -1))^2]$\n",
    "\n",
    "$I_1(\\theta)= \\frac{1}{(1-\\theta)^2} E_\\theta[( \\frac{1}{\\theta} -1 - x_i -1)^2]$\n",
    "\n",
    "$I_1(\\theta)= \\frac{1}{(1-\\theta)^2} E_\\theta[(  x_i -\\frac{1}{\\theta})^2]$\n",
    "\n",
    "$I_1(\\theta)= \\frac{1}{(1-\\theta)^2} var_\\theta (x_i) = \\frac{1}{(1-\\theta)^2}* \\frac{1-\\theta}{\\theta^2}$\n",
    "\n",
    "$I_1(\\theta)=\\frac{1}{(1-\\theta)*\\theta^2}$\n",
    "\n",
    "$\\frac{g'(\\theta)^2}{I(\\theta)} = \\frac{g'(\\theta)^2}{n*I_1(\\theta)} = \\frac{1-\\theta}{n* \\theta^2}$\n",
    "\n",
    "on a donc \n",
    "\n",
    "$var_\\theta (T(x)) = \\frac{g'(\\theta)^2}{I(\\theta)}$ conclusion T(x) est UVMB "
   ]
  },
  {
   "cell_type": "markdown",
   "metadata": {},
   "source": [
    "#### question 4"
   ]
  },
  {
   "cell_type": "markdown",
   "metadata": {},
   "source": [
    "montron que $R(\\theta, s_{h}) < R(\\theta, T)$ pour certaine valeur de h"
   ]
  },
  {
   "cell_type": "markdown",
   "metadata": {},
   "source": [
    "$R(\\theta, s_{h})= (b(\\theta ,s_h))^{2} + var_\\theta (s_h)$\n",
    "\n",
    "$(b(\\theta ,s_h))^{2} = (E_{\\theta}(s(x)- g(\\theta)))^2 = (E_{\\theta}(s(x)) - \\frac{1}{\\theta})^2 =(\\frac{h}{\\theta} - \\frac{1}{\\theta})^2 = (\\frac{h- 1}{\\theta})^2 $\n",
    "$var_\\theta (s_h) = var_\\theta (h * T(x)) = h^2 * var_\\theta (T(X))= \\frac{h^2 * (1 -\\theta)}{ n \\theta^2}$\n",
    "$R(\\theta, s_{h}) = (\\frac{h- 1}{\\theta})^2 + \\frac{h^2 * (1 -\\theta)}{ n \\theta^2}$\n",
    "\n",
    "$R(\\theta, s_{h}) =\\frac{n * (h -1)^2 + h^2 *(1 - \\theta)}{ n \\theta^2}$\n",
    "\n",
    "$R(\\theta, T) = var(T(x))= \\frac{(1 - \\theta)}{ n \\theta^2}$\n",
    "\n",
    "$R(\\theta, T) - R(\\theta, s_{h}) = \\frac{(1 - \\theta) - n*(h-1)^2 - h^2 * (1 - \\theta)}{ n \\theta^2}$\n",
    "\n",
    "Pour trouver la valeur de h on travail juste sur le numérateur \n",
    "\n",
    "$(1 - \\theta) - n*(h-1)^2 - h^2 * (1 - \\theta) = 0$ \n",
    "\n",
    "on tire de la la valeur limite de h \n",
    "\n",
    "$ h = \\frac{1 - \\theta -n }{ -1 + \\theta -n}$\n",
    "\n",
    "donc on a $h > \\frac{1 - \\theta -n }{ -1 + \\theta -n}$\n"
   ]
  },
  {
   "cell_type": "markdown",
   "metadata": {},
   "source": [
    "#### question 5 )"
   ]
  },
  {
   "cell_type": "markdown",
   "metadata": {},
   "source": [
    "Oui il existe un h minimun. Pour le retrouver on minimise $R(\\theta, s_{h})$"
   ]
  },
  {
   "cell_type": "markdown",
   "metadata": {},
   "source": [
    "$R(\\theta, s_{h}) =\\frac{n * (h -1)^2 + h^2 *(1 + \\theta)}{ n \\theta^2}$\n",
    "\n",
    "on va deriver $R(\\theta, s_{h})$   dérivé de $n * (h -1)^2 + h^2 *(1 + \\theta)$  vaut $2*n*(h - 1) + 2*h(1 - \\theta)$\n",
    "\n",
    "$2*n*(h - 1) + 2*h(1 - \\theta) = 0  \\Rightarrow   h = \\frac{n}{ n + 1 - \\theta}$\n",
    "\n",
    "$h = \\frac{n}{ n + 1 - \\theta}$\n"
   ]
  },
  {
   "cell_type": "markdown",
   "metadata": {},
   "source": [
    "#### question 6a)"
   ]
  },
  {
   "cell_type": "code",
   "execution_count": 161,
   "metadata": {
    "collapsed": true
   },
   "outputs": [],
   "source": [
    "n = 10\n",
    "M = 100000\n",
    "h = 9./11\n",
    "theta0 = 0.2\n",
    "v = 1+rgeom(M*n,prob = theta0)\n",
    "Z = matrix(v,nrow = M)"
   ]
  },
  {
   "cell_type": "markdown",
   "metadata": {},
   "source": [
    "#### question 6b)"
   ]
  },
  {
   "cell_type": "code",
   "execution_count": 162,
   "metadata": {
    "collapsed": true
   },
   "outputs": [],
   "source": [
    "Tx = apply(X = Z,MARGIN = 1,FUN = mean)\n",
    "Sx = h*Tx"
   ]
  },
  {
   "cell_type": "markdown",
   "metadata": {},
   "source": [
    "##### question 6c)"
   ]
  },
  {
   "cell_type": "code",
   "execution_count": 163,
   "metadata": {
    "collapsed": false
   },
   "outputs": [
    {
     "data": {
      "text/html": [
       "4.990912"
      ],
      "text/latex": [
       "4.990912"
      ],
      "text/markdown": [
       "4.990912"
      ],
      "text/plain": [
       "[1] 4.990912"
      ]
     },
     "metadata": {},
     "output_type": "display_data"
    },
    {
     "data": {
      "text/html": [
       "4.08347345454546"
      ],
      "text/latex": [
       "4.08347345454546"
      ],
      "text/markdown": [
       "4.08347345454546"
      ],
      "text/plain": [
       "[1] 4.083473"
      ]
     },
     "metadata": {},
     "output_type": "display_data"
    }
   ],
   "source": [
    "mean(Tx)\n",
    "mean(Sx)"
   ]
  },
  {
   "cell_type": "code",
   "execution_count": 164,
   "metadata": {
    "collapsed": false
   },
   "outputs": [
    {
     "data": {
      "image/png": "[encoded data removed]",
      "text/plain": [
       "Plot with title \"Histogrammes de Tx et Sx\""
      ]
     },
     "metadata": {},
     "output_type": "display_data"
    }
   ],
   "source": [
    "hist(Sx,col=\"red\",probability=TRUE,\n",
    "     main=\"Histogrammes de Tx et Sx\",\n",
    "     breaks=50,\n",
    "     xlab=\"Estimations Sx et Tx de g(theta)\",\n",
    "     ylab=\"Probabilite\")\n",
    "\n",
    "hist(Tx,col=\"blue\",probability=TRUE,add=TRUE,density=15,breaks=50)\n",
    "\n",
    "abline(v = 1/theta0,lwd=3)\n",
    "\n",
    "legend(\"topright\",lwd=2,col=c(\"red\",\"blue\",\"black\"),\n",
    "       legend=c(\"Sx\",\"Tx\",\"g(theta)\"))"
   ]
  },
  {
   "cell_type": "markdown",
   "metadata": {},
   "source": [
    "On retrouve graphiquement le fait que la variance et l’espérance de Tx sont plus petites celles de Sx."
   ]
  },
  {
   "cell_type": "markdown",
   "metadata": {},
   "source": [
    "#### question 6d)"
   ]
  },
  {
   "cell_type": "code",
   "execution_count": 75,
   "metadata": {
    "collapsed": true
   },
   "outputs": [],
   "source": [
    "L1 = (Tx - 1/theta0)^2\n",
    "Lh = (Sx - 1/theta0)^2"
   ]
  },
  {
   "cell_type": "markdown",
   "metadata": {},
   "source": [
    "#### question 6e)"
   ]
  },
  {
   "cell_type": "code",
   "execution_count": 76,
   "metadata": {
    "collapsed": false
   },
   "outputs": [
    {
     "name": "stdout",
     "output_type": "stream",
     "text": [
      "Rt vaut :  2 \n",
      "Son approximation vaut :  1.9938346 \n",
      "Rs vaut :  2.16528925619835 \n",
      "Son approximation vaut :  2.15248927768595 \n"
     ]
    }
   ],
   "source": [
    "Rt = (1- theta0)/(n*theta0^2)\n",
    "\n",
    "Rs = (n*(h-1)^2 + h^2 * (1- theta0))/(n*theta0^2)\n",
    "RTchapeau = 1/M * sum(L1)\n",
    "Rschapeau = 1/M * sum(Lh)\n",
    "\n",
    "cat(paste(\"Rt vaut : \",Rt,\"\\nSon approximation vaut : \",RTchapeau,\n",
    "          \"\\nRs vaut : \",Rs,\"\\nSon approximation vaut : \",Rschapeau,\"\\n\"))"
   ]
  },
  {
   "cell_type": "markdown",
   "metadata": {},
   "source": [
    "  "
   ]
  },
  {
   "cell_type": "markdown",
   "metadata": {},
   "source": [
    "##### question 6f)"
   ]
  },
  {
   "cell_type": "code",
   "execution_count": 165,
   "metadata": {
    "collapsed": false
   },
   "outputs": [
    {
     "data": {
      "image/png": "[encoded data removed]",
      "text/plain": [
       "Plot with title \"Histogrammes de L1 et Lh\""
      ]
     },
     "metadata": {},
     "output_type": "display_data"
    }
   ],
   "source": [
    "hist(Lh[Lh>=0 & Lh<=10],\n",
    "     breaks=seq(0,10,1),\n",
    "     main=\"Histogrammes de L1 et Lh\",\n",
    "     xlab=\"Erreurs quadratiques L1 et Lh\",\n",
    "     col=\"yellow\",\n",
    "     probability=TRUE,\n",
    "     ylab=\"Fréquence\"\n",
    ")\n",
    "\n",
    "hist(L1[L1>=0 & L1<=10],col=\"blue\",breaks=seq(0,10,1),probability=TRUE,add=TRUE,density=15)\n",
    "\n",
    "abline(v = RTchapeau,lwd=3,col=\"green\")\n",
    "abline(v = Rschapeau,lwd=3)\n",
    "\n",
    "legend(\"topright\",lwd=2,col=c(\"yellow\",\"blue\",\"green\",\"black\"),\n",
    "       legend=c(\"Lh\",\"L1\",\"RTchapeau\",\"Rschapeau\"))"
   ]
  },
  {
   "cell_type": "markdown",
   "metadata": {},
   "source": [
    "## exercice 2 "
   ]
  },
  {
   "cell_type": "markdown",
   "metadata": {},
   "source": [
    "##### question 1 )  \n",
    "calcul de la loi posteriori "
   ]
  },
  {
   "cell_type": "markdown",
   "metadata": {},
   "source": [
    "$\\pi (\\theta |x) =\\frac{P_\\theta(X)\\pi(\\theta)}{\\int P_t(X)\\pi(dt) } = \\frac{\\tau (\\alpha + \\beta)}{\\tau(\\alpha)\\tau(\\beta)} * \\theta^{\\alpha -1} * (1 + \\theta)^{\\beta -1} * \\prod_{i=1}^{ n}P_\\theta(x_i)$  \n",
    "car l'intégrale est une constatante donc on peu travailler uniquement  avec le numérateur ici  "
   ]
  },
  {
   "cell_type": "markdown",
   "metadata": {},
   "source": [
    "$\\prod_{i=1}^{ n}P_\\theta(x_i)= \\theta^{n } * (1 + \\theta)^{n*x -n}$\n",
    "\n",
    "$\\pi (\\theta |x) = \\frac{\\tau (\\alpha + \\beta)}{\\tau(\\alpha)\\tau(\\beta)} * \\theta^{\\alpha -1} * (1 + \\theta)^{\\beta -1} * \\theta^{n } * (1 + \\theta)^{n*x -n} = \\frac{\\tau (\\alpha + \\beta)}{\\tau(\\alpha)\\tau(\\beta)} * \\theta^{\\alpha -1 + n} * (1 + \\theta)^{\\beta -1 + \\sum_{i=1}^{n}(x_i - 1))}$\n",
    "\n",
    "notons donc que $\\alpha(n) = \\alpha + n$ et que $\\beta(x) = \\beta +  \\sum_{i=1}^{n}(x_i - 1) $  poson aussi $sn = \\sum_{i=1}^{n}x_i$\n",
    "\n",
    "Comme l’on sait que l’on cherche une loi Beta, il vient que la loi à posteriori suit la loi Beta(α(n),β(x))"
   ]
  },
  {
   "cell_type": "markdown",
   "metadata": {},
   "source": [
    "#### question 2) \n",
    "calcul de $E(\\theta |x)$"
   ]
  },
  {
   "cell_type": "markdown",
   "metadata": {},
   "source": [
    "$E(\\theta |x)= \\frac{\\alpha + n}{\\alpha + n + \\beta -n + sn} = \\frac{\\alpha + n}{\\alpha + \\beta + sn}$\n",
    "\n",
    "on peut considérer $E(\\theta |x)$ comme un estimateur de $\\theta_0$ car il est fonction des observations $x_i$( car sn = $\\sum_{i=1}^{n}x_i $ ) "
   ]
  },
  {
   "cell_type": "markdown",
   "metadata": {},
   "source": [
    "#### question 3 ) \n",
    "montrons que $E(\\theta |x)$ converge vers  $\\theta_0$"
   ]
  },
  {
   "cell_type": "markdown",
   "metadata": {},
   "source": [
    "$E(\\theta |x) = \\frac{\\frac{\\alpha}{n }+ 1}{\\frac{\\beta + \\alpha}{n} + \\frac{1}{n}* sn}$\n",
    "\n",
    "or \n",
    "\n",
    "$\\lim_{n \\rightarrow +\\infty}\\frac{\\alpha}{n} + 1 = 1 $   \n",
    "\n",
    "et  \n",
    "\n",
    "$\\lim_{n \\rightarrow +\\infty}\\frac{\\alpha +\\beta}{n} = 0 $   \n",
    "\n",
    "et \n",
    "\n",
    "$\\lim_{n \\rightarrow +\\infty}\\frac{1}{n}*sn = \\frac{1}{\\theta} $ \n",
    "\n",
    "donc \n",
    "\n",
    "$\\lim_{n \\rightarrow +\\infty}E(\\theta |x) = \\theta $"
   ]
  },
  {
   "cell_type": "markdown",
   "metadata": {},
   "source": [
    "#### question 4a) "
   ]
  },
  {
   "cell_type": "code",
   "execution_count": 185,
   "metadata": {
    "collapsed": true
   },
   "outputs": [],
   "source": [
    "alpha = 0.5\n",
    "beta = 1.5\n",
    "theta0 = 0.6\n",
    "N = 500\n",
    "X = 1+rgeom(N,prob = theta0)\n",
    "\n",
    "grille = seq(0, 1, by = 0.01)\n",
    "L = length(grille)\n",
    "grille = grille[-c(1,L)]"
   ]
  },
  {
   "cell_type": "markdown",
   "metadata": {},
   "source": [
    "#### question 4b)"
   ]
  },
  {
   "cell_type": "code",
   "execution_count": 138,
   "metadata": {
    "collapsed": true
   },
   "outputs": [],
   "source": [
    "?dbeta"
   ]
  },
  {
   "cell_type": "code",
   "execution_count": 139,
   "metadata": {
    "collapsed": true
   },
   "outputs": [],
   "source": [
    "?dgamma"
   ]
  },
  {
   "cell_type": "code",
   "execution_count": 148,
   "metadata": {
    "collapsed": false,
    "scrolled": true
   },
   "outputs": [
    {
     "data": {
      "image/png": "[encoded data removed]",
      "text/plain": [
       "Plot with title \"Densités du prior et de lois à posteriori\""
      ]
     },
     "metadata": {},
     "output_type": "display_data"
    }
   ],
   "source": [
    "n_colors = list(c(5,\"coral4\"),c(20,\"coral3\"),c(100,\"coral2\"),c(500,\"cornflowerblue\"))\n",
    "\n",
    "y = grille\n",
    "#\n",
    "hy = dbeta(y,shape1 = alpha, shape2 = beta)\n",
    "\n",
    "plot(y, hy,type = \"l\", lty = 1,lwd = 3, xlab=\"Theta\",\n",
    "     ylab=\"Density\", main=\"Densités du prior et de lois à posteriori\",\n",
    "     ylim = c(0,8),\n",
    "     xlim = c(0,1))\n",
    "\n",
    "abline(v = theta0, col = \"red\", lwd = 3)\n",
    "\n",
    "for(n_c in n_colors)\n",
    "{\n",
    "  n = strtoi(n_c[1])\n",
    "  color = n_c[2]\n",
    "  \n",
    "  alpha_post = alpha  + n\n",
    "  beta_post = beta - n +  sum(X[1:n])\n",
    "  \n",
    "  \n",
    "  hy = dbeta(y, shape1 = alpha_post, shape2 = beta_post)\n",
    "  lines(y, hy, lwd=2, col=color)\n",
    "}\n",
    "\n",
    "legend(\"topright\",col=c(\"black\",\"coral4\",\"coral3\",\"coral2\",\"cornflowerblue\",\"red\"),\n",
    "       legend=c(\"N = 0 (Prior)\",\"N = 5\",\"N = 20\",\"N = 100\",\"N = 500\",\"Theta0\"),\n",
    "       lwd=c(3,3,3,3,3,3))"
   ]
  },
  {
   "cell_type": "markdown",
   "metadata": {},
   "source": [
    "on n’est pas étonné de voir que la loi beta change beaucoup au fur et à mesure des expériences. En particulier, les hautes densités se décalent petit à petit vers la gauche, et se resserrent autour de l’espérance. Les positions des quatre courbes aléatoires dépendent fortement du seed utilisé."
   ]
  },
  {
   "cell_type": "markdown",
   "metadata": {},
   "source": [
    "#### question 4c)"
   ]
  },
  {
   "cell_type": "code",
   "execution_count": 88,
   "metadata": {
    "collapsed": true
   },
   "outputs": [],
   "source": [
    "?dgeom"
   ]
  },
  {
   "cell_type": "code",
   "execution_count": 186,
   "metadata": {
    "collapsed": false,
    "scrolled": false
   },
   "outputs": [
    {
     "data": {
      "image/png": "[encoded data removed]",
      "text/plain": [
       "Plot with title \"Evolution de l'espérance à postériori\""
      ]
     },
     "metadata": {},
     "output_type": "display_data"
    }
   ],
   "source": [
    "esp_post = cumsum(X) + alpha + beta \n",
    "for(n in 1:N)\n",
    "  esp_post[n] = (alpha  + n)/esp_post[n]\n",
    "\n",
    "plot(1:N,esp_post,type = \"l\",lty = 1,lwd = 2,\n",
    "     xlab = \"N\",ylab = \"Espérance à postériori\",\n",
    "     main = \"Evolution de l'espérance à postériori\",\n",
    "     ylim=c(0.45,1.8))\n",
    "\n",
    "abline(h = theta0,col = \"red\", lwd = 1)\n",
    "\n",
    "legend(\"topright\",col=\"red\",legend=\"Vraie espérance\",lwd=2)"
   ]
  },
  {
   "cell_type": "markdown",
   "metadata": {},
   "source": [
    "Dans un premier temps, ce graphique illustre le résultat de la question 3 :  l’espérance à posteriori converge presque surement vers la vraie espérance, $\\theta_0$\n"
   ]
  },
  {
   "cell_type": "markdown",
   "metadata": {},
   "source": [
    "### exercice 3"
   ]
  },
  {
   "cell_type": "markdown",
   "metadata": {},
   "source": [
    "#### question 1)\n",
    "Précisons l’espace des paramètres $\\Theta$ du modele "
   ]
  },
  {
   "cell_type": "markdown",
   "metadata": {},
   "source": [
    "$\\Theta = \\mathbb{R}_+$\n",
    "\n",
    "$\\Theta_0 = {0}$\n",
    "\n",
    "$\\Theta_1 = \\mathbb{R}_+^{*}$"
   ]
  },
  {
   "cell_type": "markdown",
   "metadata": {},
   "source": [
    "### question 2) \n",
    "Je  defini la procédure de test \n",
    "\n",
    "\\begin{align*}\n",
    "\\delta_A= \\left\\{\n",
    "    \\begin{array}{ll}\n",
    "        1 \\ \\ si\\ \\frac{1}{n}S(X) \\not\\in \\ ]-A,A[ \\\\\n",
    "        0 \\  \\ sinon\n",
    "    \\end{array}\n",
    "\\right.\n",
    "\\end{align*}\n",
    "\n",
    "S(X) suit une loi normal N($\\mu_0$ ,$\\frac{1}{n}$) \n",
    "\n",
    "$\\sqrt[]{n}$S(X) suit une loi normal N($\\sqrt[]{n}\\mu_0$ ,1) "
   ]
  },
  {
   "cell_type": "markdown",
   "metadata": {},
   "source": [
    "Calcul de la borne d'acceptation :  \n",
    "\n",
    "\\begin{align*}\n",
    "\\alpha &= \\underset{\\mu \\in \\Theta_0}{sup} \\ \\mathbb{P}_\\mu (\\delta = 1) \\\\\n",
    "&= \\mathbb{P}_{0} (\\frac{1}{\\sqrt[]{n}}S(X) \\not\\in \\ ]-A,A[) \\\\\n",
    "&= \\mathbb{P}_{0} (\\frac{1}{\\sqrt[]{n}}S(X) < \\sqrt[]{n}(-A) \\ ou\\ \\frac{1}{\\sqrt[]{n}}S(X) > \\sqrt[]{n}A) \\\\\n",
    "&= 2 \\mathbb{P}_{0} (\\frac{1}{\\sqrt[]{n}}S(X) > \\sqrt[]{n}A) \\ \\\\\n",
    "Donc\\ \\ \\ \\frac{\\alpha}{2} &= \\mathbb{P}_{0} (\\frac{1}{\\sqrt[]{n}}S(X) > \\sqrt[]{n}A) \\\\\n",
    "&= 1 - \\mathbb{P}_{0} (\\frac{1}{\\sqrt[]{n}}S(X) \\le \\sqrt[]{n}A) \\\\\n",
    "&= 1 - F_{S_{0}} (\\sqrt[]{n}A) \\ où\\ F_{S_{0}} \\ est\\ la\\ fonction\\ de\\ répartition\\ de\\ S \\\\\n",
    "D'où\\ \\ \\ 1-\\frac{\\alpha}{2} &=  F_{S_{0}} (\\sqrt[]{n}A) \\\\\n",
    "F^\\rightarrow (1-\\frac{\\alpha}{2} ) &= F^\\rightarrow (F_{S_{0}} (\\sqrt[]{n}A)) \\\\\n",
    "Donc\\ \\ \\ A &= \\frac{F^\\rightarrow (1-\\frac{\\alpha}{2} )}{\\sqrt[]{n}} \\ \\ \\ \\ car\\ F^\\rightarrow o F = Id \n",
    "\\\\\n",
    "A &= \\frac{F^\\rightarrow (\\frac{39}{40} )}{\\sqrt[]{n}}\n",
    "\\end{align*}\n",
    "\n"
   ]
  },
  {
   "cell_type": "markdown",
   "metadata": {},
   "source": [
    "###### question 3)"
   ]
  },
  {
   "cell_type": "code",
   "execution_count": 157,
   "metadata": {
    "collapsed": false
   },
   "outputs": [],
   "source": [
    "alpha = 5/100 \n",
    "A_10 = qnorm(39/40)*(1/sqrt(10))\n",
    "A_100 = qnorm(39/40)*(1/sqrt(100))\n",
    "A_1000 = qnorm(39/40)*(1/ sqrt(1000))"
   ]
  },
  {
   "cell_type": "code",
   "execution_count": 158,
   "metadata": {
    "collapsed": false
   },
   "outputs": [
    {
     "name": "stdout",
     "output_type": "stream",
     "text": [
      "A_10: 0.619795"
     ]
    }
   ],
   "source": [
    "cat(\"A_10:\",A_10)\n"
   ]
  },
  {
   "cell_type": "code",
   "execution_count": 159,
   "metadata": {
    "collapsed": false
   },
   "outputs": [
    {
     "name": "stdout",
     "output_type": "stream",
     "text": [
      "A_100: 0.1959964"
     ]
    }
   ],
   "source": [
    "cat(\"A_100:\",A_100)"
   ]
  },
  {
   "cell_type": "code",
   "execution_count": 160,
   "metadata": {
    "collapsed": false
   },
   "outputs": [
    {
     "name": "stdout",
     "output_type": "stream",
     "text": [
      "A_1000: 0.0619795"
     ]
    }
   ],
   "source": [
    "cat(\"A_1000:\",A_1000)"
   ]
  },
  {
   "cell_type": "markdown",
   "metadata": {},
   "source": [
    "calcule E(x)\n",
    "\n",
    "\\begin{align*}\n",
    "E(x)&= E(e^{log(x)}) \\\\\n",
    "&=E(e^{y}) \\\\\n",
    "&=\\int_{-\\infty}^{+\\infty} \\frac{e^{y}* e{\\frac{-(y-\\mu)^2}{2}}}{\\sqrt[]{2* \\pi}} d_y \\\\\n",
    "&= \\frac{1}{\\sqrt[]{2 * \\pi}} \\int_{-\\infty}^{+\\infty} e^{\\frac{2y - y^2 - \\mu^2 + 2y \\mu}{2}} d_y \\\\\n",
    "&= \\frac{1}{\\sqrt[]{2 * \\pi}} \\int_{-\\infty}^{+\\infty} e^{\\frac{(y - (1+ \\mu))^2 - (1- \\mu)^2 + \\mu^2 }{2}} d_y \\\\\n",
    "&= \\frac{1}{\\sqrt[]{2 * \\pi}} e^{\\frac{- (1- \\mu)^2 + \\mu^2}{2}} \\int_{-\\infty}^{+\\infty} e^{\\frac{(y - (1+ \\mu))^2 }{2}} d_y \\\\\n",
    "\\ posons t = y - (1 - \\mu) \\\\ \n",
    "&= \\frac{1}{\\sqrt[]{2 * \\pi}} e^{\\frac{1+ 2\\mu}{2}} \\int_{-\\infty}^{+\\infty} e^{\\frac{t^2}{2}} d_t \\\\\n",
    "\\ or \\frac{1}{\\sqrt[]{2 * \\pi}} \\int_{-\\infty}^{+\\infty} e^{\\frac{t^2}{2}} d_t = 1 \\\\\n",
    "\\ donc \\\\ \n",
    "&= e^{\\frac{1+ 2\\mu}{2}} \\\\\n",
    "\\end{align*}\n",
    "\n"
   ]
  },
  {
   "cell_type": "code",
   "execution_count": 170,
   "metadata": {
    "collapsed": false
   },
   "outputs": [
    {
     "data": {
      "text/html": [
       "1.82211880039051"
      ],
      "text/latex": [
       "1.82211880039051"
      ],
      "text/markdown": [
       "1.82211880039051"
      ],
      "text/plain": [
       "[1] 1.822119"
      ]
     },
     "metadata": {},
     "output_type": "display_data"
    }
   ],
   "source": [
    "u = 0.1\n",
    "Esperance_X = exp((1 + 2*u)/2)\n",
    "\n",
    "Esperance_X"
   ]
  },
  {
   "cell_type": "markdown",
   "metadata": {
    "collapsed": true
   },
   "source": [
    "#### question 5 )\n",
    "Le risque de deuxième espèce est donnée par la formule suivante : \n",
    "\n",
    "\\begin{align*}\n",
    "R_2(\\mu , \\delta_n) &= \\mathbb{P}_\\mu (\\delta_n(S)=0) \\ pour\\ \\mu \\not\\in \\ \\Theta_1 \\\\\n",
    "&= \\mathbb{P}_\\mu (S_n \\in \\ [\\sqrt[]{n}(-A), \\sqrt[]{n}A]) \\\\\n",
    "&= \\mathbb{P}_\\mu (S_n \\le \\sqrt[]{n}A) - \\mathbb{P}_\\theta (Sn \\le \\sqrt[]{n}(-A)) \\\\\n",
    "&= F(\\sqrt[]{n}A)-F(\\sqrt[]{n}(-A))\n",
    "\\end{align*}"
   ]
  },
  {
   "cell_type": "code",
   "execution_count": 162,
   "metadata": {
    "collapsed": true
   },
   "outputs": [],
   "source": [
    "?qnorm"
   ]
  },
  {
   "cell_type": "code",
   "execution_count": 163,
   "metadata": {
    "collapsed": false,
    "scrolled": true
   },
   "outputs": [
    {
     "data": {
      "image/png": "[encoded data removed]",
      "text/plain": [
       "Plot with title \"Evolution de la borne A avec n\""
      ]
     },
     "metadata": {},
     "output_type": "display_data"
    }
   ],
   "source": [
    "u = 0.1\n",
    "alpha = 0.05\n",
    "min = 50\n",
    "max = 5000\n",
    "h = 200\n",
    "x = seq(min,max,by=h)\n",
    "dim(x) = (max-min)/h+1\n",
    "\n",
    "A = qnorm(39/40)*(1/sqrt(x))\n",
    "\n",
    "plot(x,A,type=\"l\",lty = 1,lwd = 3,\n",
    "     xlab = \"n\",ylab = \"A(n)\",\n",
    "     main = \"Evolution de la borne A avec n\")"
   ]
  },
  {
   "cell_type": "code",
   "execution_count": 164,
   "metadata": {
    "collapsed": true
   },
   "outputs": [],
   "source": [
    "u = 0.1\n",
    "alpha = 0.05\n",
    "min = 500\n",
    "max = 5000\n",
    "h = 200\n",
    "x = seq(min,max,by=h)\n",
    "dim(x) = (max-min)/h+1\n",
    "\n",
    "A = qnorm(39/40)*(1/sqrt(x))"
   ]
  },
  {
   "cell_type": "code",
   "execution_count": 165,
   "metadata": {
    "collapsed": true
   },
   "outputs": [],
   "source": [
    "?pnorm"
   ]
  },
  {
   "cell_type": "code",
   "execution_count": 166,
   "metadata": {
    "collapsed": false
   },
   "outputs": [
    {
     "data": {
      "image/png": "[encoded data removed]",
      "text/plain": [
       "Plot with title \"Evolution du risque de seconde espèce avec n\""
      ]
     },
     "metadata": {},
     "output_type": "display_data"
    }
   ],
   "source": [
    "u = 0.1\n",
    "b0 = 0.95\n",
    "\n",
    "plot(x,pnorm(sqrt(x)*A,sqrt(x)*u,1) - pnorm(sqrt(x)*(-A) ,sqrt(x)*u,1),\n",
    "     type=\"l\",lty = 1,lwd = 3,\n",
    "     ylab = \"R(mu,n)\", xlab = \"n\",\n",
    "     main = \"Evolution du risque de seconde espèce avec n\")\n",
    "\n",
    "\n",
    "abline(h=1-b0,col=\"red\")\n",
    "legend(\"topright\",legend=\"1 - beta0\",col=\"red\",lwd=2)"
   ]
  },
  {
   "cell_type": "markdown",
   "metadata": {},
   "source": [
    "Comme première approximation, on peut prendre n0=1260. On voit ici que n0 se trouve dans l'intervalle [1200;1500]."
   ]
  },
  {
   "cell_type": "markdown",
   "metadata": {},
   "source": [
    "#### question 6)"
   ]
  },
  {
   "cell_type": "code",
   "execution_count": 167,
   "metadata": {
    "collapsed": false
   },
   "outputs": [
    {
     "data": {
      "image/png": "[encoded data removed]",
      "text/plain": [
       "Plot with title \"Estimation du risque avec un pas de 1\""
      ]
     },
     "metadata": {},
     "output_type": "display_data"
    }
   ],
   "source": [
    "b0 = 0.95\n",
    "h = 1\n",
    "nb = 200\n",
    "min = 1200\n",
    "max = min + nb*h\n",
    "x = seq(min,max,by=h)\n",
    "dim(x) = (max-min)/h+1\n",
    "A = qnorm(39/40)*(1/sqrt(x))\n",
    "\n",
    "plot(x,pnorm(sqrt(x)*A,sqrt(x)*u,1) - pnorm(sqrt(x)*(-A) ,sqrt(x)*u,1),\n",
    "     type=\"l\",lty = 1,lwd = 3,\n",
    "     ylab = \"R(theta,n)\", xlab = \"n\",\n",
    "     main = \"Estimation du risque avec un pas de 1\")\n",
    "abline(h=1-b0,col=\"red\")\n",
    "legend(\"topright\",legend=\"1 - beta0\",col=\"red\",lwd=2)"
   ]
  },
  {
   "cell_type": "markdown",
   "metadata": {},
   "source": [
    "on peut voir grace à notre grille affiné que n0 vaut 1300  à  +-10 prés "
   ]
  },
  {
   "cell_type": "markdown",
   "metadata": {},
   "source": [
    "on peut aussi verifier le resulta par calcule."
   ]
  },
  {
   "cell_type": "code",
   "execution_count": 169,
   "metadata": {
    "collapsed": false
   },
   "outputs": [
    {
     "name": "stdout",
     "output_type": "stream",
     "text": [
      "n0 : 1310 à +/- 10 près."
     ]
    }
   ],
   "source": [
    "nb = 200\n",
    "b0 = 0.05\n",
    "\n",
    "u = 0.1\n",
    "alpha = 0.95\n",
    "min = 50\n",
    "max = min + nb*h\n",
    "h = 10\n",
    "x = seq(min,max,by=h)\n",
    "dim(x) = (max-min)/h+1\n",
    "\n",
    "A = qnorm(39/40)*(1/sqrt(x))\n",
    "b = 1\n",
    "i = 1\n",
    "while(b > b0 & i <= nb + 1)\n",
    "{ \n",
    "  b = pnorm(sqrt(x[i])*A[i],sqrt(x[i])*u,1) - pnorm(sqrt(x[i])*(-A[i]),sqrt(x[i])*u,1)\n",
    "  i = i + 1\n",
    "}\n",
    "\n",
    "cat(\"n0 :\",min + (i-1)*h,\"à +/- 10 près.\")"
   ]
  },
  {
   "cell_type": "code",
   "execution_count": null,
   "metadata": {
    "collapsed": true
   },
   "outputs": [],
   "source": []
  }
 ],
 "metadata": {
  "anaconda-cloud": {},
  "kernelspec": {
   "display_name": "R",
   "language": "R",
   "name": "ir"
  },
  "language_info": {
   "codemirror_mode": "r",
   "file_extension": ".r",
   "mimetype": "text/x-r-source",
   "name": "R",
   "pygments_lexer": "r",
   "version": "3.3.1"
  }
 },
 "nbformat": 4,
 "nbformat_minor": 1
}
